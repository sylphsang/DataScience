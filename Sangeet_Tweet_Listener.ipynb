{
 "cells": [
  {
   "cell_type": "code",
   "execution_count": 1,
   "metadata": {
    "collapsed": false
   },
   "outputs": [],
   "source": [
    "from pyspark import SparkContext\n",
    "from pyspark.streaming import StreamingContext\n",
    "from pyspark.sql import SQLContext\n",
    "from pyspark.sql.functions import desc\n"
   ]
  },
  {
   "cell_type": "code",
   "execution_count": 2,
   "metadata": {
    "collapsed": false
   },
   "outputs": [],
   "source": [
    "from pyspark.sql import HiveContext  "
   ]
  },
  {
   "cell_type": "code",
   "execution_count": 3,
   "metadata": {
    "collapsed": false
   },
   "outputs": [],
   "source": [
    "sc = SparkContext(appName=\"TwitterAnalysis\")\n",
    "sc.setLogLevel(\"ERROR\")"
   ]
  },
  {
   "cell_type": "code",
   "execution_count": 4,
   "metadata": {
    "collapsed": false
   },
   "outputs": [],
   "source": [
    "ssc = StreamingContext(sc, 10 )\n",
    "sqlContext = SQLContext(sc)\n",
    "ssc.checkpoint( \"checkpoint\")"
   ]
  },
  {
   "cell_type": "code",
   "execution_count": 5,
   "metadata": {
    "collapsed": true
   },
   "outputs": [],
   "source": [
    "socket_stream = ssc.socketTextStream(\"172.31.38.183\" ,5555)\n",
    "lines = socket_stream.window(60)\n",
    "#lines.pprint()"
   ]
  },
  {
   "cell_type": "code",
   "execution_count": 6,
   "metadata": {
    "collapsed": true
   },
   "outputs": [],
   "source": [
    "def parse(line):\n",
    "    try:\n",
    "        k, v = line.split(\":\")\n",
    "        return [(k, v)]\n",
    "    except:\n",
    "        return []\n"
   ]
  },
  {
   "cell_type": "code",
   "execution_count": 7,
   "metadata": {
    "collapsed": false
   },
   "outputs": [],
   "source": [
    "from collections import namedtuple\n",
    "column_lang = (\"tweet_lang\", \"count\" )\n",
    "Tweet_Lang = namedtuple( 'Tweet_Lang', column_lang )"
   ]
  },
  {
   "cell_type": "code",
   "execution_count": 8,
   "metadata": {
    "collapsed": true
   },
   "outputs": [],
   "source": [
    "column_author = (\"tweet_author_name\", \"count\" )\n",
    "Tweet_Author = namedtuple( 'Tweet_Author', column_author )"
   ]
  },
  {
   "cell_type": "code",
   "execution_count": 9,
   "metadata": {
    "collapsed": false
   },
   "outputs": [],
   "source": [
    "parsed = lines.flatMap(parse)  \n",
    "\n",
    "\n",
    "#creating temp table for each winow for plotting and taking only 30 records\n",
    "language_table = (parsed.transform(\n",
    "   lambda rdd:rdd.map(lambda x:(x[1], 1)).reduceByKey(lambda a,b: a+b)).map( lambda tup: Tweet_Lang( tup[0], tup[1] ) )\n",
    "  .foreachRDD( lambda rdd: rdd.toDF().sort( desc(\"count\") )\n",
    "              .limit(30).registerTempTable(\"tweets_lang\") ))\n",
    "    \n",
    "parsed.pprint(20)\n",
    "\n"
   ]
  },
  {
   "cell_type": "code",
   "execution_count": 10,
   "metadata": {
    "collapsed": false
   },
   "outputs": [],
   "source": [
    "\n",
    "#author_table = (parsed.transform(\n",
    "#   lambda rdd:rdd.map(lambda tup: Tweet_Author( tup[0], tup[1] ) )\n",
    "#  .foreachRDD( lambda rdd: rdd.toDF() )\n",
    "#              .limit(30).registerTempTable(\"tweets_author\") ))\n",
    "\n",
    "author_table = (parsed.transform(\n",
    "   lambda rdd:rdd.map(lambda x:(x[0], 1)).reduceByKey(lambda a,b: a+b)).map( lambda tup: Tweet_Author( tup[0], tup[1] ) )\n",
    "  .foreachRDD( lambda rdd: rdd.toDF().sort( desc(\"count\") )\n",
    "              .limit(30).registerTempTable(\"tweets_author\") ))"
   ]
  },
  {
   "cell_type": "code",
   "execution_count": 11,
   "metadata": {
    "collapsed": false
   },
   "outputs": [
    {
     "name": "stdout",
     "output_type": "stream",
     "text": [
      "-------------------------------------------\n",
      "Time: 2017-10-03 08:13:20\n",
      "-------------------------------------------\n",
      "\n"
     ]
    }
   ],
   "source": [
    "ssc.start()"
   ]
  },
  {
   "cell_type": "code",
   "execution_count": 12,
   "metadata": {
    "collapsed": false
   },
   "outputs": [],
   "source": [
    "import matplotlib.pyplot as plt\n",
    "import seaborn as sn\n",
    "%matplotlib inline"
   ]
  },
  {
   "cell_type": "code",
   "execution_count": 13,
   "metadata": {
    "collapsed": false
   },
   "outputs": [
    {
     "name": "stdout",
     "output_type": "stream",
     "text": [
      "-------------------------------------------\n",
      "Time: 2017-10-03 08:13:30\n",
      "-------------------------------------------\n",
      "(u'Puja Sharma', u'en')\n",
      "\n",
      "-------------------------------------------\n",
      "Time: 2017-10-03 08:13:40\n",
      "-------------------------------------------\n",
      "(u'Puja Sharma', u'en')\n",
      "\n",
      "-------------------------------------------\n",
      "Time: 2017-10-03 08:13:50\n",
      "-------------------------------------------\n",
      "(u'Puja Sharma', u'en')\n",
      "\n",
      "-------------------------------------------\n",
      "Time: 2017-10-03 08:14:00\n",
      "-------------------------------------------\n",
      "(u'Puja Sharma', u'en')\n",
      "(u'Rajesh Singhvi', u'en')\n",
      "\n",
      "-------------------------------------------\n",
      "Time: 2017-10-03 08:14:10\n",
      "-------------------------------------------\n",
      "(u'Puja Sharma', u'en')\n",
      "(u'Rajesh Singhvi', u'en')\n",
      "(u'P J Anthony', u'en')\n",
      "\n"
     ]
    }
   ],
   "source": [
    "import time\n",
    "from IPython import display"
   ]
  },
  {
   "cell_type": "code",
   "execution_count": 15,
   "metadata": {
    "collapsed": false
   },
   "outputs": [
    {
     "data": {
      "image/png": "[encoded data removed]",
      "text/plain": [
       "<matplotlib.figure.Figure at 0x7f951772a110>"
      ]
     },
     "metadata": {},
     "output_type": "display_data"
    },
    {
     "name": "stdout",
     "output_type": "stream",
     "text": [
      "-------------------------------------------\n",
      "Time: 2017-10-03 08:28:00\n",
      "-------------------------------------------\n",
      "(u'alok', u'en')\n",
      "(u'satyanarayana', u'en')\n",
      "(u'Shan Baba', u'en')\n",
      "(u'ExpertJobsOrg', u'en')\n",
      "(u'Olivia Hayes', u'ru')\n",
      "\n",
      "-------------------------------------------\n",
      "Time: 2017-10-03 08:28:10\n",
      "-------------------------------------------\n",
      "(u'satyanarayana', u'en')\n",
      "(u'Shan Baba', u'en')\n",
      "(u'ExpertJobsOrg', u'en')\n",
      "(u'Olivia Hayes', u'ru')\n",
      "\n",
      "-------------------------------------------\n",
      "Time: 2017-10-03 08:28:20\n",
      "-------------------------------------------\n",
      "(u'ExpertJobsOrg', u'en')\n",
      "(u'Olivia Hayes', u'ru')\n",
      "(u'Anantha Subramanyam', u'en')\n",
      "\n",
      "-------------------------------------------\n",
      "Time: 2017-10-03 08:28:30\n",
      "-------------------------------------------\n",
      "(u'Olivia Hayes', u'ru')\n",
      "(u'Anantha Subramanyam', u'en')\n",
      "(u'Age-friendly Mcr', u'en')\n",
      "(u'Fearless Jyoti', u'en')\n",
      "(u'HinduNationalist#HDL', u'en')\n",
      "(u'Riya P Sharma', u'en')\n",
      "\n",
      "-------------------------------------------\n",
      "Time: 2017-10-03 08:28:40\n",
      "-------------------------------------------\n",
      "(u'Olivia Hayes', u'ru')\n",
      "(u'Anantha Subramanyam', u'en')\n",
      "(u'Age-friendly Mcr', u'en')\n",
      "(u'Fearless Jyoti', u'en')\n",
      "(u'HinduNationalist#HDL', u'en')\n",
      "(u'Riya P Sharma', u'en')\n",
      "\n",
      "-------------------------------------------\n",
      "Time: 2017-10-03 08:28:50\n",
      "-------------------------------------------\n",
      "(u'Anantha Subramanyam', u'en')\n",
      "(u'Age-friendly Mcr', u'en')\n",
      "(u'Fearless Jyoti', u'en')\n",
      "(u'HinduNationalist#HDL', u'en')\n",
      "(u'Riya P Sharma', u'en')\n",
      "(u'TMJ-INB Engin. Jobs', u'en')\n",
      "(u'satyanarayana', u'en')\n",
      "\n",
      "-------------------------------------------\n",
      "Time: 2017-10-03 08:29:00\n",
      "-------------------------------------------\n",
      "(u'Anantha Subramanyam', u'en')\n",
      "(u'Age-friendly Mcr', u'en')\n",
      "(u'Fearless Jyoti', u'en')\n",
      "(u'HinduNationalist#HDL', u'en')\n",
      "(u'Riya P Sharma', u'en')\n",
      "(u'TMJ-INB Engin. Jobs', u'en')\n",
      "(u'satyanarayana', u'en')\n",
      "(u'Bloodhelpline', u'en')\n",
      "\n",
      "-------------------------------------------\n",
      "Time: 2017-10-03 08:29:10\n",
      "-------------------------------------------\n",
      "(u'Anantha Subramanyam', u'en')\n",
      "(u'Age-friendly Mcr', u'en')\n",
      "(u'Fearless Jyoti', u'en')\n",
      "(u'HinduNationalist#HDL', u'en')\n",
      "(u'Riya P Sharma', u'en')\n",
      "(u'TMJ-INB Engin. Jobs', u'en')\n",
      "(u'satyanarayana', u'en')\n",
      "(u'Bloodhelpline', u'en')\n",
      "(u'Bala', u'en')\n",
      "\n",
      "-------------------------------------------\n",
      "Time: 2017-10-03 08:29:20\n",
      "-------------------------------------------\n",
      "(u'Age-friendly Mcr', u'en')\n",
      "(u'Fearless Jyoti', u'en')\n",
      "(u'HinduNationalist#HDL', u'en')\n",
      "(u'Riya P Sharma', u'en')\n",
      "(u'TMJ-INB Engin. Jobs', u'en')\n",
      "(u'satyanarayana', u'en')\n",
      "(u'Bloodhelpline', u'en')\n",
      "(u'Bala', u'en')\n",
      "\n",
      "-------------------------------------------\n",
      "Time: 2017-10-03 08:29:30\n",
      "-------------------------------------------\n",
      "(u'TMJ-INB Engin. Jobs', u'en')\n",
      "(u'satyanarayana', u'en')\n",
      "(u'Bloodhelpline', u'en')\n",
      "(u'Bala', u'en')\n",
      "(u'jt120651', u'en')\n",
      "\n",
      "-------------------------------------------\n",
      "Time: 2017-10-03 08:29:40\n",
      "-------------------------------------------\n",
      "(u'TMJ-INB Engin. Jobs', u'en')\n",
      "(u'satyanarayana', u'en')\n",
      "(u'Bloodhelpline', u'en')\n",
      "(u'Bala', u'en')\n",
      "(u'jt120651', u'en')\n",
      "(u'jobmonsoon', u'en')\n",
      "\n",
      "-------------------------------------------\n",
      "Time: 2017-10-03 08:29:50\n",
      "-------------------------------------------\n",
      "(u'Bloodhelpline', u'en')\n",
      "(u'Bala', u'en')\n",
      "(u'jt120651', u'en')\n",
      "(u'jobmonsoon', u'en')\n",
      "\n",
      "-------------------------------------------\n",
      "Time: 2017-10-03 08:30:00\n",
      "-------------------------------------------\n",
      "(u'Bala', u'en')\n",
      "(u'jt120651', u'en')\n",
      "(u'jobmonsoon', u'en')\n",
      "(u'abhi', u'en')\n",
      "\n",
      "-------------------------------------------\n",
      "Time: 2017-10-03 08:30:10\n",
      "-------------------------------------------\n",
      "(u'jt120651', u'en')\n",
      "(u'jobmonsoon', u'en')\n",
      "(u'abhi', u'en')\n",
      "(u'Kingfisher', u'en')\n",
      "\n",
      "-------------------------------------------\n",
      "Time: 2017-10-03 08:30:20\n",
      "-------------------------------------------\n",
      "(u'jt120651', u'en')\n",
      "(u'jobmonsoon', u'en')\n",
      "(u'abhi', u'en')\n",
      "(u'Kingfisher', u'en')\n",
      "(u'Tanya Setia', u'en')\n",
      "(u'Aeronube', u'en')\n",
      "(u'Aeronube', u'en')\n",
      "\n",
      "-------------------------------------------\n",
      "Time: 2017-10-03 08:30:30\n",
      "-------------------------------------------\n",
      "(u'jobmonsoon', u'en')\n",
      "(u'abhi', u'en')\n",
      "(u'Kingfisher', u'en')\n",
      "(u'Tanya Setia', u'en')\n",
      "(u'Aeronube', u'en')\n",
      "(u'Aeronube', u'en')\n",
      "\n",
      "-------------------------------------------\n",
      "Time: 2017-10-03 08:30:40\n",
      "-------------------------------------------\n",
      "(u'abhi', u'en')\n",
      "(u'Kingfisher', u'en')\n",
      "(u'Tanya Setia', u'en')\n",
      "(u'Aeronube', u'en')\n",
      "(u'Aeronube', u'en')\n",
      "\n",
      "-------------------------------------------\n",
      "Time: 2017-10-03 08:30:50\n",
      "-------------------------------------------\n",
      "(u'abhi', u'en')\n",
      "(u'Kingfisher', u'en')\n",
      "(u'Tanya Setia', u'en')\n",
      "(u'Aeronube', u'en')\n",
      "(u'Aeronube', u'en')\n",
      "(u'knrglobal headhunter', u'en')\n",
      "\n",
      "-------------------------------------------\n",
      "Time: 2017-10-03 08:31:00\n",
      "-------------------------------------------\n",
      "(u'Kingfisher', u'en')\n",
      "(u'Tanya Setia', u'en')\n",
      "(u'Aeronube', u'en')\n",
      "(u'Aeronube', u'en')\n",
      "(u'knrglobal headhunter', u'en')\n",
      "(u'#BIGBOSSNTR', u'en')\n",
      "(u'bharath ', u'en')\n",
      "\n",
      "-------------------------------------------\n",
      "Time: 2017-10-03 08:31:10\n",
      "-------------------------------------------\n",
      "(u'Tanya Setia', u'en')\n",
      "(u'Aeronube', u'en')\n",
      "(u'Aeronube', u'en')\n",
      "(u'knrglobal headhunter', u'en')\n",
      "(u'#BIGBOSSNTR', u'en')\n",
      "(u'bharath ', u'en')\n",
      "(u'Talent Bee', u'en')\n",
      "(u'Talent Bee', u'en')\n",
      "\n",
      "-------------------------------------------\n",
      "Time: 2017-10-03 08:31:20\n",
      "-------------------------------------------\n",
      "(u'knrglobal headhunter', u'en')\n",
      "(u'#BIGBOSSNTR', u'en')\n",
      "(u'bharath ', u'en')\n",
      "(u'Talent Bee', u'en')\n",
      "(u'Talent Bee', u'en')\n",
      "(u'Pravz_dna', u'en')\n",
      "\n",
      "-------------------------------------------\n",
      "Time: 2017-10-03 08:31:30\n",
      "-------------------------------------------\n",
      "(u'knrglobal headhunter', u'en')\n",
      "(u'#BIGBOSSNTR', u'en')\n",
      "(u'bharath ', u'en')\n",
      "(u'Talent Bee', u'en')\n",
      "(u'Talent Bee', u'en')\n",
      "(u'Pravz_dna', u'en')\n",
      "(u'raghavendra', u'en')\n",
      "\n",
      "-------------------------------------------\n",
      "Time: 2017-10-03 08:31:40\n",
      "-------------------------------------------\n",
      "(u'knrglobal headhunter', u'en')\n",
      "(u'#BIGBOSSNTR', u'en')\n",
      "(u'bharath ', u'en')\n",
      "(u'Talent Bee', u'en')\n",
      "(u'Talent Bee', u'en')\n",
      "(u'Pravz_dna', u'en')\n",
      "(u'raghavendra', u'en')\n",
      "(u'Sri Krishna', u'en')\n",
      "(u'prabhakar karthick', u'en')\n",
      "(u'Rajesh Alishetti', u'en')\n",
      "\n",
      "-------------------------------------------\n",
      "Time: 2017-10-03 08:31:50\n",
      "-------------------------------------------\n",
      "(u'#BIGBOSSNTR', u'en')\n",
      "(u'bharath ', u'en')\n",
      "(u'Talent Bee', u'en')\n",
      "(u'Talent Bee', u'en')\n",
      "(u'Pravz_dna', u'en')\n",
      "(u'raghavendra', u'en')\n",
      "(u'Sri Krishna', u'en')\n",
      "(u'prabhakar karthick', u'en')\n",
      "(u'Rajesh Alishetti', u'en')\n",
      "\n",
      "-------------------------------------------\n",
      "Time: 2017-10-03 08:32:00\n",
      "-------------------------------------------\n",
      "(u'Talent Bee', u'en')\n",
      "(u'Talent Bee', u'en')\n",
      "(u'Pravz_dna', u'en')\n",
      "(u'raghavendra', u'en')\n",
      "(u'Sri Krishna', u'en')\n",
      "(u'prabhakar karthick', u'en')\n",
      "(u'Rajesh Alishetti', u'en')\n",
      "\n",
      "-------------------------------------------\n",
      "Time: 2017-10-03 08:32:10\n",
      "-------------------------------------------\n",
      "(u'Pravz_dna', u'en')\n",
      "(u'raghavendra', u'en')\n",
      "(u'Sri Krishna', u'en')\n",
      "(u'prabhakar karthick', u'en')\n",
      "(u'Rajesh Alishetti', u'en')\n",
      "(u'Heler Clinic', u'en-gb')\n",
      "(u'Pradeep', u'en')\n",
      "(u'Ankit Jha', u'en')\n",
      "\n"
     ]
    }
   ],
   "source": [
    "\n",
    "#bar plot 30 times after that it will not draw ()\n",
    "\n",
    "count = 0\n",
    "while count < 30:\n",
    "    time.sleep( 20 )\n",
    "    tweets_lang = sqlContext.sql( 'Select tweet_lang,count  from tweets_lang' )\n",
    "    tweets_lang_df = tweets_lang.toPandas()\n",
    "    display.clear_output(wait=True)\n",
    "    sn.plt.figure( figsize = ( 10, 8 ) )\n",
    "    sn.barplot( x=\"tweet_lang\", y=\"count\", data=tweets_lang_df)\n",
    "#    sn.hist(top_10_df[\"tweet_lang\"])\n",
    "    sn.plt.show()\n",
    "    count = count + 1"
   ]
  },
  {
   "cell_type": "code",
   "execution_count": 14,
   "metadata": {
    "collapsed": false
   },
   "outputs": [
    {
     "data": {
      "image/png": "[encoded data removed]",
      "text/plain": [
       "<matplotlib.figure.Figure at 0x7f951765b190>"
      ]
     },
     "metadata": {},
     "output_type": "display_data"
    }
   ],
   "source": [
    "count = 0\n",
    "while count < 30:\n",
    "    time.sleep( 20 )\n",
    "    tweets_Author = sqlContext.sql( 'Select tweet_author_name,count  from tweets_author' )\n",
    "    tweets_Author_df = tweets_Author.toPandas()\n",
    "    display.clear_output(wait=True)\n",
    "    sn.plt.figure( figsize = ( 10, 8 ) )\n",
    "    sn.barplot( x=\"tweet_author_name\", y=\"count\", data=tweets_Author_df)\n",
    "#    sn.distplot(top_10_df.tweet_author_name)\n",
    "    sn.plt.show()\n",
    "    count = count + 1"
   ]
  },
  {
   "cell_type": "code",
   "execution_count": 16,
   "metadata": {
    "collapsed": false
   },
   "outputs": [],
   "source": [
    "ssc.stop()"
   ]
  },
  {
   "cell_type": "code",
   "execution_count": null,
   "metadata": {
    "collapsed": true
   },
   "outputs": [],
   "source": []
  }
 ],
 "metadata": {
  "kernelspec": {
   "display_name": "Python [default]",
   "language": "python",
   "name": "python2"
  },
  "language_info": {
   "codemirror_mode": {
    "name": "ipython",
    "version": 2
   },
   "file_extension": ".py",
   "mimetype": "text/x-python",
   "name": "python",
   "nbconvert_exporter": "python",
   "pygments_lexer": "ipython2",
   "version": "2.7.13"
  }
 },
 "nbformat": 4,
 "nbformat_minor": 2
}
